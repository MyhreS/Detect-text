{
 "cells": [
  {
   "cell_type": "code",
   "execution_count": 29,
   "metadata": {
    "collapsed": true
   },
   "outputs": [],
   "source": [
    "import pandas as pd"
   ]
  },
  {
   "cell_type": "code",
   "execution_count": 30,
   "outputs": [
    {
     "data": {
      "text/plain": "               Image  Word\n0  n02-154-04-05.png  that\n1  m04-093-02-01.png    it\n2  p03-135-03-07.png   his\n3  n04-044-01-08.png  been\n4  p02-022-07-07.png   the",
      "text/html": "<div>\n<style scoped>\n    .dataframe tbody tr th:only-of-type {\n        vertical-align: middle;\n    }\n\n    .dataframe tbody tr th {\n        vertical-align: top;\n    }\n\n    .dataframe thead th {\n        text-align: right;\n    }\n</style>\n<table border=\"1\" class=\"dataframe\">\n  <thead>\n    <tr style=\"text-align: right;\">\n      <th></th>\n      <th>Image</th>\n      <th>Word</th>\n    </tr>\n  </thead>\n  <tbody>\n    <tr>\n      <th>0</th>\n      <td>n02-154-04-05.png</td>\n      <td>that</td>\n    </tr>\n    <tr>\n      <th>1</th>\n      <td>m04-093-02-01.png</td>\n      <td>it</td>\n    </tr>\n    <tr>\n      <th>2</th>\n      <td>p03-135-03-07.png</td>\n      <td>his</td>\n    </tr>\n    <tr>\n      <th>3</th>\n      <td>n04-044-01-08.png</td>\n      <td>been</td>\n    </tr>\n    <tr>\n      <th>4</th>\n      <td>p02-022-07-07.png</td>\n      <td>the</td>\n    </tr>\n  </tbody>\n</table>\n</div>"
     },
     "execution_count": 30,
     "metadata": {},
     "output_type": "execute_result"
    }
   ],
   "source": [
    "csv = pd.read_csv('../data/test_labels.csv')\n",
    "csv.head(5)"
   ],
   "metadata": {
    "collapsed": false
   }
  },
  {
   "cell_type": "code",
   "execution_count": 31,
   "outputs": [],
   "source": [
    "amount_of_chars = 20\n",
    "\n",
    "# Initialize a pandas DataFrame with columns Image and char_1 to char_amount_of_chars, which is currently 20.\n",
    "df = pd.DataFrame(columns=['Image'] + [f\"char_{i}\" for i in range(1, amount_of_chars+2)])\n",
    "\n",
    "# Define the mapping from characters to numbers\n",
    "char_mapping = {'a': 1, 'b': 2, 'c': 3, 'd': 4, 'e': 5, 'f': 6, 'g': 7, 'h': 8, 'i': 9, 'j': 10, 'k': 11, 'l': 12, 'm': 13, 'n': 14, 'o': 15, 'p': 16, 'q': 17, 'r': 18, 's': 19, 't': 20, 'u': 21, 'v': 22, 'w': 23, 'x': 24, 'y': 25, 'z': 26}\n",
    "\n",
    "# Iterate over each row in the input DataFrame csv\n",
    "for index, row in csv.iterrows():\n",
    "    # Extract the image and word columns\n",
    "    image = row['Image']\n",
    "    word = row['Word']\n",
    "\n",
    "    # Map each character in the word to a number, or None if not in the mapping\n",
    "    chars = [char_mapping[char] if char in char_mapping else None for char in word]\n",
    "\n",
    "    # Skip this row if any characters are not in the mapping (i.e., are None)\n",
    "    if None in chars:\n",
    "        continue\n",
    "\n",
    "    # Pad the characters list with zeros until it has length amount_of_chars+1, which is currently 20+1\n",
    "    chars += [0] * (amount_of_chars+1 - len(chars))\n",
    "\n",
    "    # Add the image and characters to the new DataFrame as a new row\n",
    "    df = df.append({'Image': image, **{f\"char_{i}\": char for i, char in enumerate(chars, 1)}}, ignore_index=True)"
   ],
   "metadata": {
    "collapsed": false
   }
  },
  {
   "cell_type": "code",
   "execution_count": 32,
   "outputs": [
    {
     "data": {
      "text/plain": "               Image char_1 char_2 char_3 char_4 char_5 char_6 char_7 char_8  \\\n0  n02-154-04-05.png     20      8      1     20      0      0      0      0   \n1  m04-093-02-01.png      9     20      0      0      0      0      0      0   \n2  p03-135-03-07.png      8      9     19      0      0      0      0      0   \n3  n04-044-01-08.png      2      5      5     14      0      0      0      0   \n4  p02-022-07-07.png     20      8      5      0      0      0      0      0   \n\n  char_9  ... char_12 char_13 char_14 char_15 char_16 char_17 char_18 char_19  \\\n0      0  ...       0       0       0       0       0       0       0       0   \n1      0  ...       0       0       0       0       0       0       0       0   \n2      0  ...       0       0       0       0       0       0       0       0   \n3      0  ...       0       0       0       0       0       0       0       0   \n4      0  ...       0       0       0       0       0       0       0       0   \n\n  char_20 char_21  \n0       0       0  \n1       0       0  \n2       0       0  \n3       0       0  \n4       0       0  \n\n[5 rows x 22 columns]",
      "text/html": "<div>\n<style scoped>\n    .dataframe tbody tr th:only-of-type {\n        vertical-align: middle;\n    }\n\n    .dataframe tbody tr th {\n        vertical-align: top;\n    }\n\n    .dataframe thead th {\n        text-align: right;\n    }\n</style>\n<table border=\"1\" class=\"dataframe\">\n  <thead>\n    <tr style=\"text-align: right;\">\n      <th></th>\n      <th>Image</th>\n      <th>char_1</th>\n      <th>char_2</th>\n      <th>char_3</th>\n      <th>char_4</th>\n      <th>char_5</th>\n      <th>char_6</th>\n      <th>char_7</th>\n      <th>char_8</th>\n      <th>char_9</th>\n      <th>...</th>\n      <th>char_12</th>\n      <th>char_13</th>\n      <th>char_14</th>\n      <th>char_15</th>\n      <th>char_16</th>\n      <th>char_17</th>\n      <th>char_18</th>\n      <th>char_19</th>\n      <th>char_20</th>\n      <th>char_21</th>\n    </tr>\n  </thead>\n  <tbody>\n    <tr>\n      <th>0</th>\n      <td>n02-154-04-05.png</td>\n      <td>20</td>\n      <td>8</td>\n      <td>1</td>\n      <td>20</td>\n      <td>0</td>\n      <td>0</td>\n      <td>0</td>\n      <td>0</td>\n      <td>0</td>\n      <td>...</td>\n      <td>0</td>\n      <td>0</td>\n      <td>0</td>\n      <td>0</td>\n      <td>0</td>\n      <td>0</td>\n      <td>0</td>\n      <td>0</td>\n      <td>0</td>\n      <td>0</td>\n    </tr>\n    <tr>\n      <th>1</th>\n      <td>m04-093-02-01.png</td>\n      <td>9</td>\n      <td>20</td>\n      <td>0</td>\n      <td>0</td>\n      <td>0</td>\n      <td>0</td>\n      <td>0</td>\n      <td>0</td>\n      <td>0</td>\n      <td>...</td>\n      <td>0</td>\n      <td>0</td>\n      <td>0</td>\n      <td>0</td>\n      <td>0</td>\n      <td>0</td>\n      <td>0</td>\n      <td>0</td>\n      <td>0</td>\n      <td>0</td>\n    </tr>\n    <tr>\n      <th>2</th>\n      <td>p03-135-03-07.png</td>\n      <td>8</td>\n      <td>9</td>\n      <td>19</td>\n      <td>0</td>\n      <td>0</td>\n      <td>0</td>\n      <td>0</td>\n      <td>0</td>\n      <td>0</td>\n      <td>...</td>\n      <td>0</td>\n      <td>0</td>\n      <td>0</td>\n      <td>0</td>\n      <td>0</td>\n      <td>0</td>\n      <td>0</td>\n      <td>0</td>\n      <td>0</td>\n      <td>0</td>\n    </tr>\n    <tr>\n      <th>3</th>\n      <td>n04-044-01-08.png</td>\n      <td>2</td>\n      <td>5</td>\n      <td>5</td>\n      <td>14</td>\n      <td>0</td>\n      <td>0</td>\n      <td>0</td>\n      <td>0</td>\n      <td>0</td>\n      <td>...</td>\n      <td>0</td>\n      <td>0</td>\n      <td>0</td>\n      <td>0</td>\n      <td>0</td>\n      <td>0</td>\n      <td>0</td>\n      <td>0</td>\n      <td>0</td>\n      <td>0</td>\n    </tr>\n    <tr>\n      <th>4</th>\n      <td>p02-022-07-07.png</td>\n      <td>20</td>\n      <td>8</td>\n      <td>5</td>\n      <td>0</td>\n      <td>0</td>\n      <td>0</td>\n      <td>0</td>\n      <td>0</td>\n      <td>0</td>\n      <td>...</td>\n      <td>0</td>\n      <td>0</td>\n      <td>0</td>\n      <td>0</td>\n      <td>0</td>\n      <td>0</td>\n      <td>0</td>\n      <td>0</td>\n      <td>0</td>\n      <td>0</td>\n    </tr>\n  </tbody>\n</table>\n<p>5 rows × 22 columns</p>\n</div>"
     },
     "execution_count": 32,
     "metadata": {},
     "output_type": "execute_result"
    }
   ],
   "source": [
    "df.head(5)"
   ],
   "metadata": {
    "collapsed": false
   }
  },
  {
   "cell_type": "code",
   "execution_count": 33,
   "outputs": [],
   "source": [
    "df.to_csv('../data/alt_test_labels.csv', index=False)"
   ],
   "metadata": {
    "collapsed": false
   }
  },
  {
   "cell_type": "code",
   "execution_count": null,
   "outputs": [],
   "source": [],
   "metadata": {
    "collapsed": false
   }
  }
 ],
 "metadata": {
  "kernelspec": {
   "display_name": "Python 3",
   "language": "python",
   "name": "python3"
  },
  "language_info": {
   "codemirror_mode": {
    "name": "ipython",
    "version": 2
   },
   "file_extension": ".py",
   "mimetype": "text/x-python",
   "name": "python",
   "nbconvert_exporter": "python",
   "pygments_lexer": "ipython2",
   "version": "2.7.6"
  }
 },
 "nbformat": 4,
 "nbformat_minor": 0
}
