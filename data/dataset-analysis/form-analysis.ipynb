{
 "cells": [
  {
   "cell_type": "code",
   "execution_count": 2,
   "outputs": [],
   "source": [
    "from glob import glob\n",
    "from labelmap import LabelMap\n",
    "import pandas as pd"
   ],
   "metadata": {
    "collapsed": false
   }
  },
  {
   "cell_type": "code",
   "execution_count": 3,
   "outputs": [
    {
     "name": "stdout",
     "output_type": "stream",
     "text": [
      "Amount of forms: 1539\n",
      "Amount of labels: 1539\n"
     ]
    }
   ],
   "source": [
    "paths_to_forms = glob(\"../data/dataset-1-forms/forms/*.png\")\n",
    "print(\"Amount of forms:\", len(paths_to_forms))\n",
    "path_to_labels = glob(\"../data/dataset-1-forms/forms/*.txt\")\n",
    "print(\"Amount of labels:\", len(path_to_labels))"
   ],
   "metadata": {
    "collapsed": false
   }
  },
  {
   "cell_type": "code",
   "execution_count": 4,
   "outputs": [],
   "source": [
    "annotations = pd.read_csv(\"../data/dataset-1-forms/labels.csv\")"
   ],
   "metadata": {
    "collapsed": false
   }
  },
  {
   "cell_type": "code",
   "execution_count": 5,
   "outputs": [
    {
     "data": {
      "text/plain": "     image_name  class  width  height  org_x1  org_y1  org_x2  org_y2  \\\n0  g06-031n.png      1   2479    3542     435     678     450     697   \n1  g06-031n.png      1   2479    3542     425     683     663     777   \n2  g06-031n.png      1   2479    3542     640     726     696     779   \n3  g06-031n.png      1   2479    3542     727     685    1128     820   \n4  g06-031n.png      1   2479    3542    1129     692    1365     779   \n\n        text     x     y     w     h  \n0          '  0.18  0.19  0.01  0.01  \n1       What  0.22  0.21  0.10  0.03  \n2          a  0.27  0.21  0.02  0.01  \n3  frightful  0.37  0.21  0.16  0.04  \n4      event  0.50  0.21  0.10  0.02  ",
      "text/html": "<div>\n<style scoped>\n    .dataframe tbody tr th:only-of-type {\n        vertical-align: middle;\n    }\n\n    .dataframe tbody tr th {\n        vertical-align: top;\n    }\n\n    .dataframe thead th {\n        text-align: right;\n    }\n</style>\n<table border=\"1\" class=\"dataframe\">\n  <thead>\n    <tr style=\"text-align: right;\">\n      <th></th>\n      <th>image_name</th>\n      <th>class</th>\n      <th>width</th>\n      <th>height</th>\n      <th>org_x1</th>\n      <th>org_y1</th>\n      <th>org_x2</th>\n      <th>org_y2</th>\n      <th>text</th>\n      <th>x</th>\n      <th>y</th>\n      <th>w</th>\n      <th>h</th>\n    </tr>\n  </thead>\n  <tbody>\n    <tr>\n      <th>0</th>\n      <td>g06-031n.png</td>\n      <td>1</td>\n      <td>2479</td>\n      <td>3542</td>\n      <td>435</td>\n      <td>678</td>\n      <td>450</td>\n      <td>697</td>\n      <td>'</td>\n      <td>0.18</td>\n      <td>0.19</td>\n      <td>0.01</td>\n      <td>0.01</td>\n    </tr>\n    <tr>\n      <th>1</th>\n      <td>g06-031n.png</td>\n      <td>1</td>\n      <td>2479</td>\n      <td>3542</td>\n      <td>425</td>\n      <td>683</td>\n      <td>663</td>\n      <td>777</td>\n      <td>What</td>\n      <td>0.22</td>\n      <td>0.21</td>\n      <td>0.10</td>\n      <td>0.03</td>\n    </tr>\n    <tr>\n      <th>2</th>\n      <td>g06-031n.png</td>\n      <td>1</td>\n      <td>2479</td>\n      <td>3542</td>\n      <td>640</td>\n      <td>726</td>\n      <td>696</td>\n      <td>779</td>\n      <td>a</td>\n      <td>0.27</td>\n      <td>0.21</td>\n      <td>0.02</td>\n      <td>0.01</td>\n    </tr>\n    <tr>\n      <th>3</th>\n      <td>g06-031n.png</td>\n      <td>1</td>\n      <td>2479</td>\n      <td>3542</td>\n      <td>727</td>\n      <td>685</td>\n      <td>1128</td>\n      <td>820</td>\n      <td>frightful</td>\n      <td>0.37</td>\n      <td>0.21</td>\n      <td>0.16</td>\n      <td>0.04</td>\n    </tr>\n    <tr>\n      <th>4</th>\n      <td>g06-031n.png</td>\n      <td>1</td>\n      <td>2479</td>\n      <td>3542</td>\n      <td>1129</td>\n      <td>692</td>\n      <td>1365</td>\n      <td>779</td>\n      <td>event</td>\n      <td>0.50</td>\n      <td>0.21</td>\n      <td>0.10</td>\n      <td>0.02</td>\n    </tr>\n  </tbody>\n</table>\n</div>"
     },
     "execution_count": 5,
     "metadata": {},
     "output_type": "execute_result"
    }
   ],
   "source": [
    "annotations.head(5)"
   ],
   "metadata": {
    "collapsed": false
   }
  },
  {
   "cell_type": "code",
   "execution_count": 20,
   "outputs": [
    {
     "data": {
      "text/plain": "            filename  width  height class  xmin  ymin  xmax  ymax\n0       g06-031n.png   2479    3542  bbox   435   678   450   697\n1       g06-031n.png   2479    3542  bbox   425   683   663   777\n2       g06-031n.png   2479    3542  bbox   640   726   696   779\n3       g06-031n.png   2479    3542  bbox   727   685  1128   820\n4       g06-031n.png   2479    3542  bbox  1129   692  1365   779\n...              ...    ...     ...   ...   ...   ...   ...   ...\n115182   r06-130.png   2479    3542  bbox   938  2368  1008  2436\n115183   r06-130.png   2479    3542  bbox  1081  2364  1642  2441\n115184   r06-130.png   2479    3542  bbox  1696  2366  1763  2438\n115185   r06-130.png   2479    3542  bbox  1792  2370  2014  2432\n115186   r06-130.png   2479    3542  bbox  2041  2421  2048  2428\n\n[115187 rows x 8 columns]",
      "text/html": "<div>\n<style scoped>\n    .dataframe tbody tr th:only-of-type {\n        vertical-align: middle;\n    }\n\n    .dataframe tbody tr th {\n        vertical-align: top;\n    }\n\n    .dataframe thead th {\n        text-align: right;\n    }\n</style>\n<table border=\"1\" class=\"dataframe\">\n  <thead>\n    <tr style=\"text-align: right;\">\n      <th></th>\n      <th>filename</th>\n      <th>width</th>\n      <th>height</th>\n      <th>class</th>\n      <th>xmin</th>\n      <th>ymin</th>\n      <th>xmax</th>\n      <th>ymax</th>\n    </tr>\n  </thead>\n  <tbody>\n    <tr>\n      <th>0</th>\n      <td>g06-031n.png</td>\n      <td>2479</td>\n      <td>3542</td>\n      <td>bbox</td>\n      <td>435</td>\n      <td>678</td>\n      <td>450</td>\n      <td>697</td>\n    </tr>\n    <tr>\n      <th>1</th>\n      <td>g06-031n.png</td>\n      <td>2479</td>\n      <td>3542</td>\n      <td>bbox</td>\n      <td>425</td>\n      <td>683</td>\n      <td>663</td>\n      <td>777</td>\n    </tr>\n    <tr>\n      <th>2</th>\n      <td>g06-031n.png</td>\n      <td>2479</td>\n      <td>3542</td>\n      <td>bbox</td>\n      <td>640</td>\n      <td>726</td>\n      <td>696</td>\n      <td>779</td>\n    </tr>\n    <tr>\n      <th>3</th>\n      <td>g06-031n.png</td>\n      <td>2479</td>\n      <td>3542</td>\n      <td>bbox</td>\n      <td>727</td>\n      <td>685</td>\n      <td>1128</td>\n      <td>820</td>\n    </tr>\n    <tr>\n      <th>4</th>\n      <td>g06-031n.png</td>\n      <td>2479</td>\n      <td>3542</td>\n      <td>bbox</td>\n      <td>1129</td>\n      <td>692</td>\n      <td>1365</td>\n      <td>779</td>\n    </tr>\n    <tr>\n      <th>...</th>\n      <td>...</td>\n      <td>...</td>\n      <td>...</td>\n      <td>...</td>\n      <td>...</td>\n      <td>...</td>\n      <td>...</td>\n      <td>...</td>\n    </tr>\n    <tr>\n      <th>115182</th>\n      <td>r06-130.png</td>\n      <td>2479</td>\n      <td>3542</td>\n      <td>bbox</td>\n      <td>938</td>\n      <td>2368</td>\n      <td>1008</td>\n      <td>2436</td>\n    </tr>\n    <tr>\n      <th>115183</th>\n      <td>r06-130.png</td>\n      <td>2479</td>\n      <td>3542</td>\n      <td>bbox</td>\n      <td>1081</td>\n      <td>2364</td>\n      <td>1642</td>\n      <td>2441</td>\n    </tr>\n    <tr>\n      <th>115184</th>\n      <td>r06-130.png</td>\n      <td>2479</td>\n      <td>3542</td>\n      <td>bbox</td>\n      <td>1696</td>\n      <td>2366</td>\n      <td>1763</td>\n      <td>2438</td>\n    </tr>\n    <tr>\n      <th>115185</th>\n      <td>r06-130.png</td>\n      <td>2479</td>\n      <td>3542</td>\n      <td>bbox</td>\n      <td>1792</td>\n      <td>2370</td>\n      <td>2014</td>\n      <td>2432</td>\n    </tr>\n    <tr>\n      <th>115186</th>\n      <td>r06-130.png</td>\n      <td>2479</td>\n      <td>3542</td>\n      <td>bbox</td>\n      <td>2041</td>\n      <td>2421</td>\n      <td>2048</td>\n      <td>2428</td>\n    </tr>\n  </tbody>\n</table>\n<p>115187 rows × 8 columns</p>\n</div>"
     },
     "execution_count": 20,
     "metadata": {},
     "output_type": "execute_result"
    }
   ],
   "source": [
    "annotations_refined = annotations.drop(['x', 'y', 'w', 'h', 'text'], axis=1)\n",
    "annotations_refined = annotations_refined.rename(columns={'image_name':'filename', 'org_x1':'xmin', 'org_y1':'ymin', 'org_x2':'xmax', 'org_y2':'ymax'})\n",
    "annotations_refined = annotations_refined[['filename', 'width', 'height', 'class', 'xmin', 'ymin', 'xmax', 'ymax']]\n",
    "annotations_refined['class'] = annotations_refined['class'].replace(1,'bbox')\n",
    "annotations_refined"
   ],
   "metadata": {
    "collapsed": false
   }
  },
  {
   "cell_type": "code",
   "execution_count": 21,
   "outputs": [],
   "source": [
    "annotations_refined.to_csv('../data/dataset-3-forms/annotations.csv', index=False)"
   ],
   "metadata": {
    "collapsed": false
   }
  }
 ],
 "metadata": {
  "kernelspec": {
   "display_name": "Python 3",
   "language": "python",
   "name": "python3"
  },
  "language_info": {
   "codemirror_mode": {
    "name": "ipython",
    "version": 2
   },
   "file_extension": ".py",
   "mimetype": "text/x-python",
   "name": "python",
   "nbconvert_exporter": "python",
   "pygments_lexer": "ipython2",
   "version": "2.7.6"
  }
 },
 "nbformat": 4,
 "nbformat_minor": 0
}
