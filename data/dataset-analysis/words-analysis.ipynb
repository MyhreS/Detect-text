{
 "cells": [
  {
   "cell_type": "code",
   "execution_count": 115,
   "metadata": {
    "collapsed": true
   },
   "outputs": [],
   "source": [
    "import pandas as pd\n",
    "from glob import glob\n",
    "import shutil\n",
    "import os\n",
    "import imageio.v2 as imageio"
   ]
  },
  {
   "cell_type": "code",
   "execution_count": 116,
   "outputs": [
    {
     "name": "stdout",
     "output_type": "stream",
     "text": [
      "9659\n"
     ]
    }
   ],
   "source": [
    "\"\"\"\n",
    "Viewing the test images and labels\n",
    "\"\"\"\n",
    "test_images = glob('../../datasets/dataset-2-words/test/*.png')\n",
    "print(len(test_images))"
   ],
   "metadata": {
    "collapsed": false
   }
  },
  {
   "cell_type": "code",
   "execution_count": 117,
   "outputs": [
    {
     "data": {
      "text/plain": "(8318, 3)"
     },
     "execution_count": 117,
     "metadata": {},
     "output_type": "execute_result"
    }
   ],
   "source": [
    "test_labels_1 = pd.read_csv('../../datasets/dataset-2-words/test-labels-1.csv')\n",
    "test_labels_1.shape"
   ],
   "metadata": {
    "collapsed": false
   }
  },
  {
   "cell_type": "code",
   "execution_count": 118,
   "outputs": [
    {
     "data": {
      "text/plain": "(1341, 3)"
     },
     "execution_count": 118,
     "metadata": {},
     "output_type": "execute_result"
    }
   ],
   "source": [
    "test_labels_2 = pd.read_csv('../../datasets/dataset-2-words/test-labels-2.csv')\n",
    "test_labels_2.shape"
   ],
   "metadata": {
    "collapsed": false
   }
  },
  {
   "cell_type": "code",
   "execution_count": 136,
   "outputs": [],
   "source": [
    "test_labels = pd.concat([test_labels_1, test_labels_2])\n",
    "test_labels.shape\n",
    "test_labels = test_labels.drop('Writer', axis=1)"
   ],
   "metadata": {
    "collapsed": false
   }
  },
  {
   "cell_type": "code",
   "execution_count": 137,
   "outputs": [
    {
     "data": {
      "text/plain": "               Image  Word\n0  n02-154-04-05.png  that\n1  m04-093-02-01.png    it\n2  p03-135-03-07.png   his\n3  n04-044-01-08.png  been\n4  p02-022-07-07.png   the",
      "text/html": "<div>\n<style scoped>\n    .dataframe tbody tr th:only-of-type {\n        vertical-align: middle;\n    }\n\n    .dataframe tbody tr th {\n        vertical-align: top;\n    }\n\n    .dataframe thead th {\n        text-align: right;\n    }\n</style>\n<table border=\"1\" class=\"dataframe\">\n  <thead>\n    <tr style=\"text-align: right;\">\n      <th></th>\n      <th>Image</th>\n      <th>Word</th>\n    </tr>\n  </thead>\n  <tbody>\n    <tr>\n      <th>0</th>\n      <td>n02-154-04-05.png</td>\n      <td>that</td>\n    </tr>\n    <tr>\n      <th>1</th>\n      <td>m04-093-02-01.png</td>\n      <td>it</td>\n    </tr>\n    <tr>\n      <th>2</th>\n      <td>p03-135-03-07.png</td>\n      <td>his</td>\n    </tr>\n    <tr>\n      <th>3</th>\n      <td>n04-044-01-08.png</td>\n      <td>been</td>\n    </tr>\n    <tr>\n      <th>4</th>\n      <td>p02-022-07-07.png</td>\n      <td>the</td>\n    </tr>\n  </tbody>\n</table>\n</div>"
     },
     "execution_count": 137,
     "metadata": {},
     "output_type": "execute_result"
    }
   ],
   "source": [
    "test_labels.head(5)"
   ],
   "metadata": {
    "collapsed": false
   }
  },
  {
   "cell_type": "code",
   "execution_count": 121,
   "outputs": [
    {
     "name": "stdout",
     "output_type": "stream",
     "text": [
      "207294\n"
     ]
    }
   ],
   "source": [
    "\"\"\"\n",
    "Viewing the training images and labels\n",
    "\"\"\"\n",
    "train_images = glob('../../datasets/dataset-2-words/train/*')\n",
    "print(len(train_images))\n"
   ],
   "metadata": {
    "collapsed": false
   }
  },
  {
   "cell_type": "code",
   "execution_count": 134,
   "outputs": [],
   "source": [
    "train_labels = pd.read_csv('../../datasets/dataset-2-words/train-labels.csv')\n",
    "train_labels.shape\n",
    "train_labels = train_labels.drop('Writer', axis=1)"
   ],
   "metadata": {
    "collapsed": false
   }
  },
  {
   "cell_type": "code",
   "execution_count": 135,
   "outputs": [
    {
     "data": {
      "text/plain": "                Image        Word\n0  g06-026h-01-00.png          an\n1   a01-049-01-02.png  opposition\n2   a05-053-04-02.png           a\n3  g06-031g-06-04.png        then\n4   a02-012-03-03.png  negotiator",
      "text/html": "<div>\n<style scoped>\n    .dataframe tbody tr th:only-of-type {\n        vertical-align: middle;\n    }\n\n    .dataframe tbody tr th {\n        vertical-align: top;\n    }\n\n    .dataframe thead th {\n        text-align: right;\n    }\n</style>\n<table border=\"1\" class=\"dataframe\">\n  <thead>\n    <tr style=\"text-align: right;\">\n      <th></th>\n      <th>Image</th>\n      <th>Word</th>\n    </tr>\n  </thead>\n  <tbody>\n    <tr>\n      <th>0</th>\n      <td>g06-026h-01-00.png</td>\n      <td>an</td>\n    </tr>\n    <tr>\n      <th>1</th>\n      <td>a01-049-01-02.png</td>\n      <td>opposition</td>\n    </tr>\n    <tr>\n      <th>2</th>\n      <td>a05-053-04-02.png</td>\n      <td>a</td>\n    </tr>\n    <tr>\n      <th>3</th>\n      <td>g06-031g-06-04.png</td>\n      <td>then</td>\n    </tr>\n    <tr>\n      <th>4</th>\n      <td>a02-012-03-03.png</td>\n      <td>negotiator</td>\n    </tr>\n  </tbody>\n</table>\n</div>"
     },
     "execution_count": 135,
     "metadata": {},
     "output_type": "execute_result"
    }
   ],
   "source": [
    "train_labels.head(5)"
   ],
   "metadata": {
    "collapsed": false
   }
  },
  {
   "cell_type": "code",
   "execution_count": 124,
   "outputs": [
    {
     "name": "stdout",
     "output_type": "stream",
     "text": [
      "10642\n"
     ]
    }
   ],
   "source": [
    "\"\"\"\n",
    "Viewing the validation images and labels\n",
    "\"\"\"\n",
    "val_images = glob('../../datasets/dataset-2-words/valid/*')\n",
    "print(len(val_images))"
   ],
   "metadata": {
    "collapsed": false
   }
  },
  {
   "cell_type": "code",
   "execution_count": 125,
   "outputs": [
    {
     "data": {
      "text/plain": "(9066, 3)"
     },
     "execution_count": 125,
     "metadata": {},
     "output_type": "execute_result"
    }
   ],
   "source": [
    "val_labels_1 = pd.read_csv('../../datasets/dataset-2-words/valid-labels-1.csv')\n",
    "val_labels_1.shape"
   ],
   "metadata": {
    "collapsed": false
   }
  },
  {
   "cell_type": "code",
   "execution_count": 126,
   "outputs": [
    {
     "data": {
      "text/plain": "(1576, 3)"
     },
     "execution_count": 126,
     "metadata": {},
     "output_type": "execute_result"
    }
   ],
   "source": [
    "val_labels_2 = pd.read_csv('../../datasets/dataset-2-words/valid-labels-2.csv')\n",
    "val_labels_2.shape"
   ],
   "metadata": {
    "collapsed": false
   }
  },
  {
   "cell_type": "code",
   "execution_count": 132,
   "outputs": [],
   "source": [
    "val_labels = pd.concat([val_labels_1, val_labels_2])\n",
    "val_labels = val_labels.drop('Writer', axis=1)"
   ],
   "metadata": {
    "collapsed": false
   }
  },
  {
   "cell_type": "code",
   "execution_count": 133,
   "outputs": [
    {
     "data": {
      "text/plain": "               Image      Word\n0  e06-046-02-03.png      even\n1  d01-024-02-01.png  entirely\n2  f04-035-02-09.png     asked\n3  g02-062-01-06.png        of\n4  g02-062-04-02.png  movement",
      "text/html": "<div>\n<style scoped>\n    .dataframe tbody tr th:only-of-type {\n        vertical-align: middle;\n    }\n\n    .dataframe tbody tr th {\n        vertical-align: top;\n    }\n\n    .dataframe thead th {\n        text-align: right;\n    }\n</style>\n<table border=\"1\" class=\"dataframe\">\n  <thead>\n    <tr style=\"text-align: right;\">\n      <th></th>\n      <th>Image</th>\n      <th>Word</th>\n    </tr>\n  </thead>\n  <tbody>\n    <tr>\n      <th>0</th>\n      <td>e06-046-02-03.png</td>\n      <td>even</td>\n    </tr>\n    <tr>\n      <th>1</th>\n      <td>d01-024-02-01.png</td>\n      <td>entirely</td>\n    </tr>\n    <tr>\n      <th>2</th>\n      <td>f04-035-02-09.png</td>\n      <td>asked</td>\n    </tr>\n    <tr>\n      <th>3</th>\n      <td>g02-062-01-06.png</td>\n      <td>of</td>\n    </tr>\n    <tr>\n      <th>4</th>\n      <td>g02-062-04-02.png</td>\n      <td>movement</td>\n    </tr>\n  </tbody>\n</table>\n</div>"
     },
     "execution_count": 133,
     "metadata": {},
     "output_type": "execute_result"
    }
   ],
   "source": [
    "val_labels.head(5)"
   ],
   "metadata": {
    "collapsed": false
   }
  },
  {
   "cell_type": "code",
   "execution_count": 139,
   "outputs": [],
   "source": [
    "val_labels.to_csv('../../datasets/dataset-4-words/val_labels.csv', index=False)\n",
    "train_labels.to_csv('../../datasets/dataset-4-words/train_labels.csv', index=False)\n",
    "test_labels.to_csv('../../datasets/dataset-4-words/test_labels.csv', index=False)"
   ],
   "metadata": {
    "collapsed": false
   }
  },
  {
   "cell_type": "code",
   "execution_count": null,
   "outputs": [],
   "source": [],
   "metadata": {
    "collapsed": false
   }
  }
 ],
 "metadata": {
  "kernelspec": {
   "display_name": "Python 3",
   "language": "python",
   "name": "python3"
  },
  "language_info": {
   "codemirror_mode": {
    "name": "ipython",
    "version": 2
   },
   "file_extension": ".py",
   "mimetype": "text/x-python",
   "name": "python",
   "nbconvert_exporter": "python",
   "pygments_lexer": "ipython2",
   "version": "2.7.6"
  }
 },
 "nbformat": 4,
 "nbformat_minor": 0
}
